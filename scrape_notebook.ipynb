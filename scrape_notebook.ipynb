{
 "cells": [
  {
   "cell_type": "code",
   "execution_count": 3,
   "metadata": {},
   "outputs": [],
   "source": [
    "from bs4 import BeautifulSoup\n",
    "import requests\n",
    "import pymongo"
   ]
  },
  {
   "cell_type": "code",
   "execution_count": 5,
   "metadata": {},
   "outputs": [
    {
     "name": "stdout",
     "output_type": "stream",
     "text": [
      "<div class=\"mediawall__panel mediawall__panel--news\" data-content-id=\"\">\n",
      " <div class=\"mediawall__banner p-featured-content p-featured-content--vertical\">\n",
      "  <div class=\"p-featured-content__media mediawall__companion\">\n",
      "   <div class=\"p-video-image-link mediawall__panel-image--video\">\n",
      "    <a href=\"/video/trout-s-future-contract-c2523313983\" target=\"\">\n",
      "     <div class=\"mediawall__overlay mediawall__overlay--\">\n",
      "     </div>\n",
      "     <span data-aspect-ratio=\"5:2\">\n",
      "      <img alt=\"trout_sky_2_hp\" class=\"mediawall__panel-image\" sizes=\"(min-width: 1308px) 836px, (min-width: 1024px) 66.6667vw, (min-width: 768px) 58.3333vw, 100vw\" src=\"//res.cloudinary.com/mlb-images/image/private/t_w2208/t_5x2/mlb/rffa4zwi8fttol0mx6hr.jpg\" srcset=\"//res.cloudinary.com/mlb-images/image/private/t_w2208/t_5x2/mlb/rffa4zwi8fttol0mx6hr.jpg 2208w, //res.cloudinary.com/mlb-images/image/private/t_w1536/t_5x2/mlb/rffa4zwi8fttol0mx6hr.jpg 1536w, //res.cloudinary.com/mlb-images/image/private/t_w1024/t_5x2/mlb/rffa4zwi8fttol0mx6hr.jpg 1024w, //res.cloudinary.com/mlb-images/image/private/t_w640/t_5x2/mlb/rffa4zwi8fttol0mx6hr.jpg 640w, //res.cloudinary.com/mlb-images/image/private/t_w372/t_5x2/mlb/rffa4zwi8fttol0mx6hr.jpg 372w\"/>\n",
      "      <div class=\"play-overlay play-overlay--bottom-left mediawall__play-overlay\">\n",
      "       <svg class=\"p-icon p-icon--play-overlay play-overlay__icon\">\n",
      "        <use xlink:href=\"#icon-play-overlay\">\n",
      "        </use>\n",
      "       </svg>\n",
      "      </div>\n",
      "     </span>\n",
      "    </a>\n",
      "   </div>\n",
      "  </div>\n",
      "  <div class=\"p-featured-content__body\">\n",
      "   <div class=\"l-grid\">\n",
      "    <div class=\"mediawall__article-preview l-grid__col l-grid__col--12 l-grid__col--xl-7\">\n",
      "     <div class=\"l-grid__content--box\">\n",
      "      <h4 class=\"mediawall__kicker\">\n",
      "       <a class=\"mediawall__kicker-link\" href=\"https://www.mlb.com/news/mike-trout-angels-extension-what-to-know\" target=\"\">\n",
      "        <div class=\"mediawall__kicker-text u-text-h3 u-text-flow\">\n",
      "         For Trout, the sky's the limit\n",
      "        </div>\n",
      "       </a>\n",
      "      </h4>\n",
      "      <div class=\"mediawall__blurb\">\n",
      "       <p>\n",
      "        The Halos want to extend Mike Trout. Who wouldn't? But there are a lot of potential factors at play.\n",
      "       </p>\n",
      "       <a aria-label=\"&lt;p&gt;The Halos want to extend Mike Trout. Who wouldn&amp;#39;t? But there are a lot of potential factors at play.&lt;/p&gt;\n",
      "\" class=\"mediawall__more-link p-text-link u-text-h6 p-text-more-link\" href=\"https://www.mlb.com/news/mike-trout-angels-extension-what-to-know\" target=\"\">\n",
      "        More\n",
      "       </a>\n",
      "      </div>\n",
      "     </div>\n",
      "    </div>\n",
      "    <div class=\"mediawall__related-links-container l-grid__col l-grid__col--5\">\n",
      "     <div class=\"l-grid__content--box\">\n",
      "      <p class=\"mediawall__related-links-header u-text-h6\">\n",
      "       Related\n",
      "      </p>\n",
      "      <ul class=\"mediawall__related-links p-text-list\">\n",
      "       <li class=\"mediawall__related-links-item\">\n",
      "        <a class=\"mediawall__related-links-item-link-text\" href=\"https://www.mlb.com/news/highest-paid-baseball-players-in-2019\">\n",
      "         Who is '19's highest-paid star?\n",
      "        </a>\n",
      "       </li>\n",
      "       <li class=\"mediawall__related-links-item\">\n",
      "        <a class=\"mediawall__related-links-item-link-text\" href=\"https://www.mlb.com/news/bryce-harper-sets-pro-sports-jersey-sale-record\">\n",
      "         Bryce sets jersey-sale record\n",
      "        </a>\n",
      "       </li>\n",
      "       <li class=\"mediawall__related-links-item\">\n",
      "        <a class=\"mediawall__related-links-item-link-text\" href=\"https://www.mlb.com/news/overreactions-from-spring-training-camps\">\n",
      "         7 early March overreactions\n",
      "        </a>\n",
      "       </li>\n",
      "      </ul>\n",
      "     </div>\n",
      "    </div>\n",
      "   </div>\n",
      "  </div>\n",
      " </div>\n",
      "</div>\n",
      "\n"
     ]
    }
   ],
   "source": [
    "url = 'https://www.mlb.com/'\n",
    "response = requests.get(url)\n",
    "soup = BeautifulSoup(response.text,'html')\n",
    "headline = soup.find('div', class_=\"mediawall__panel mediawall__panel--news\")"
   ]
  },
  {
   "cell_type": "code",
   "execution_count": 32,
   "metadata": {},
   "outputs": [
    {
     "name": "stdout",
     "output_type": "stream",
     "text": [
      "<li class=\"article-navigation__item\" data-content-id=\"2018-19-mlb-offseason-analysis-for-each-move-c302712514\">\n",
      " <a href=\"/news/2018-19-mlb-offseason-analysis-for-each-move-c302712514\">\n",
      "  <div class=\"p-image article-navigation__item-thumb\">\n",
      "   <div class=\"p-image__image article-navigation__item-thumb__image\" data-aspect-ratio=\"16:9\">\n",
      "    <img alt=\"\" class=\"lazyload\" data-sizes=\"auto\" data-srcset=\"https://res.cloudinary.com/mlb-images/image/private/t_16x9/t_w2208/mlb/qhoo4bebhqwker14wgga 2208w,https://res.cloudinary.com/mlb-images/image/private/t_16x9/t_w1536/mlb/qhoo4bebhqwker14wgga 1536w,https://res.cloudinary.com/mlb-images/image/private/t_16x9/t_w1024/mlb/qhoo4bebhqwker14wgga 1024w,https://res.cloudinary.com/mlb-images/image/private/t_16x9/t_w640/mlb/qhoo4bebhqwker14wgga 640w,https://res.cloudinary.com/mlb-images/image/private/t_16x9/t_w372/mlb/qhoo4bebhqwker14wgga 372w\"/>\n",
      "   </div>\n",
      "  </div>\n",
      "  <div class=\"article-navigation__item__meta\">\n",
      "   <span class=\"article-navigation__item__meta-headline\">\n",
      "    Analyzing every big offseason move (thus far)\n",
      "   </span>\n",
      "  </div>\n",
      " </a>\n",
      "</li>\n",
      "\n"
     ]
    }
   ],
   "source": [
    "url = 'https://www.mlb.com/news/2018-19-mlb-offseason-analysis-for-each-move-c302712514?t=trade-talk-and-rumors'\n",
    "response = requests.get(url)\n",
    "soup = BeautifulSoup(response.text,'lxml')\n",
    "articles = soup.find_all('li', class_=\"article-navigation__item\")\n",
    "print(articles[0].prettify())"
   ]
  },
  {
   "cell_type": "code",
   "execution_count": null,
   "metadata": {},
   "outputs": [],
   "source": []
  }
 ],
 "metadata": {
  "kernelspec": {
   "display_name": "Python 3",
   "language": "python",
   "name": "python3"
  },
  "language_info": {
   "codemirror_mode": {
    "name": "ipython",
    "version": 3
   },
   "file_extension": ".py",
   "mimetype": "text/x-python",
   "name": "python",
   "nbconvert_exporter": "python",
   "pygments_lexer": "ipython3",
   "version": "3.6.6"
  }
 },
 "nbformat": 4,
 "nbformat_minor": 2
}
