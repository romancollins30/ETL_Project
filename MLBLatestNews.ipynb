{
 "cells": [
  {
   "cell_type": "code",
   "execution_count": 1,
   "metadata": {},
   "outputs": [],
   "source": [
    "from splinter import Browser\n",
    "from bs4 import BeautifulSoup\n",
    "import time"
   ]
  },
  {
   "cell_type": "code",
   "execution_count": 2,
   "metadata": {},
   "outputs": [],
   "source": [
    "executable_path = {'executable_path': 'chromedriver.exe'}\n",
    "browser = Browser('chrome', **executable_path, headless=False)"
   ]
  },
  {
   "cell_type": "code",
   "execution_count": 5,
   "metadata": {},
   "outputs": [],
   "source": [
    "url = 'https://www.mlbtraderumors.com/'\n",
    "browser.visit(url)\n",
    "time.sleep(2)"
   ]
  },
  {
   "cell_type": "code",
   "execution_count": 6,
   "metadata": {},
   "outputs": [],
   "source": [
    "# HTML object\n",
    "html = browser.html\n",
    "# Parse HTML with Beautiful Soup\n",
    "soup = BeautifulSoup(html, 'html.parser')"
   ]
  },
  {
   "cell_type": "code",
   "execution_count": null,
   "metadata": {},
   "outputs": [],
   "source": [
    "# Iterate through all pages\n",
    "for x in range(50):\n",
    "    \n",
    "    # Retrieve all elements that contain book information\n",
    "    articles = soup.find_all('article', class_='entry_header')\n",
    "\n",
    "    # Iterate through each book\n",
    "    for article in articles:\n",
    "        # Use Beautiful Soup's find() method to navigate and retrieve attributes\n",
    "        h2 = article.find('h2')\n",
    "        link = h2.find('a')\n",
    "        href = link['href']\n",
    "        title = link['title']\n",
    "        print('-----------')\n",
    "        print(title)\n",
    "        print('https://www.mlbtraderumors.com/' + href)\n",
    "\n",
    "    # Click the 'Next' button on each page\n",
    "    try:\n",
    "        browser.click_link_by_partial_text('next')\n",
    "        time.sleep(1)\n",
    "          \n",
    "    except:\n",
    "        print(\"Scraping Complete\")"
   ]
  },
  {
   "cell_type": "code",
   "execution_count": 7,
   "metadata": {},
   "outputs": [
    {
     "name": "stdout",
     "output_type": "stream",
     "text": [
      "MLB Rumors - MLBTradeRumors.com\n"
     ]
    }
   ],
   "source": [
    "title = soup.title.text\n",
    "print(title)"
   ]
  },
  {
   "cell_type": "code",
   "execution_count": 36,
   "metadata": {},
   "outputs": [
    {
     "name": "stdout",
     "output_type": "stream",
     "text": [
      "By Jeff Todd | March 4, 2019 at 9:45pm CDT \n",
      "It has been known for some time that Cubs closer Brandon Morrow would likely not be ready for the start of the season, but his precise timeline has been tough to guess. As MLB.com’s Jordan Bastian was among those to tweet, there’s now a clear target date for Morrow to throw his first pen session: March 25th.\n",
      "Morrow dealt with a biceps injury last season and underwent offseason surgery on his elbow. The current rehab plan seems to be for Morrow to continue building up strength and testing his powerful right arm over the next several weeks. So long as he tolerates further increases in his long-toss program, he’ll get back on the bump near the end of the month.\n",
      "Even if Morrow toes the rubber on the 25th, it’ll still leave several steps left before he’s ready for competitive action. From that point, he’d need to regain the feel for his arsenal, step in against live hitters, and progress to some sort of game-like action before potentially undertaking a rehab assignment in lieu of the Spring Training contests he’ll have missed.\n",
      "The broader timeline remains foggy and obviously depends quite a bit on how Morrow comes through each forthcoming test. His bullpen mates reported to camp on February 13th; by that measure, at least, he’ll be something like five or six weeks behind schedule. Of course, Morrow has been ramping up for duty in other ways and has previously indicated he anticipates missing about a month of action.\n",
      "It remains to be seen how quickly Morrow will move once he nears readiness. By that point, the Cubs will already have quite a bit more information than they do now about their immediate roster needs. Regardless, the club will surely weigh heavily the knowledge of Morrow’s long and short-term health history.\n",
      "This time last year, Morrow was ramping up for a highly successful first half of the 2018 season — his first on a two-year, $21MM contract that brought him to Chicago. That he was in position to sign that deal was in itself quite notable, given that Morrow had only just revived his injury-wracked career. After 30 2/3 innings of 1.47 ERA pitching, though, Morrow hit the DL with what seemed like a minor issue. He never made it back, with the team shutting him down in mid-September after hope of a late-season return faded.\n",
      "Entering the winter, the Cubs made clear they would keep Morrow penciled in as their primary closer. But his outlook was downgraded again when he ended up requiring an elbow debridement procedure in early November. With little free payroll to allocate in free agency, the Cubs never pursued a true replacement, though they did add a hurler who has late-inning experience. Brad Brach joins Pedro Strop, Steve Cishek, and Brandon Kintzler as Chicago relievers with at least twenty MLB saves.\n",
      "Brandon Morrow Chicago Cubs\n",
      "By Jeff Todd | March 4, 2019 at 8:13pm CDT \n",
      "Padres outfielder Travis Jankowski has been diagnosed with a broken wrist, Kevin Acee of the San Diego Union-Tribune reports on Twitter. It’s not yet known how long he’ll be sidelined, but it is anticipated that he “will miss significant time.”\n",
      "The 27-year-old Jankowski suffered the injury laying out for a catch. Particulars aren’t yet known this time around, but he has once previously suffered a generally similar injury. Back in 2014, Jankowski fractured his wrist in a collision with an outfield wall.\n",
      "Jankowski is earning $1.165MM this year as a Super Two player. While he has not yet shown much with the bat at the MLB level, he is coming off of a personal-best offensive season. Over 387 plate appearances in 2018, Jankowski slashed .259/.332/.346 with 24 stolen bases. He’s a quality outfield defender who can play up the middle, significantly boosting his utility.\n",
      "The Friars have the depth to deal with an absence from Jankowski, with Manuel Margot and Franchy Cordero representing a potential righty/lefty mix up the middle. But they’ll lose a roster element they had hoped to carry entering the season. The Pads have a few lefty-hitting outfielders on the depth chart in Boog Powell and Alex Dickerson, though both were recently sent to minors camp.\n",
      "With Jankowski down to open the year, then, the San Diego organization could consider a wide variety of alternative means of utilizing the 25-man roster opening. It could open the door to intriguing outfielder Franmil Reyes. Utilitymen Jose Pirela and Javy Guerra are also candidates who already have 40-man roster spots. The same goes for corner infielder Ty France, though it’s less clear how he’d function on a roster that now features high-priced regulars at his accustomed positions.\n",
      "San Diego Padres Travis Jankowski\n",
      "By Mark Polishuk | March 4, 2019 at 6:35pm CDT \n",
      "This is the first post of MLBTR’s annual Offseason in Review series, in which we take stock of every team’s winter dealings.\n",
      "It was another low-key winter in Motown as the Tigers continued their rebuild process.\n",
      "Major League Signings\n",
      "Trades And Claims\n",
      "Notable Minor League Signings\n",
      "Notable Losses\n",
      "[Detroit Tigers Depth Chart | Detroit Tigers Payroll Outlook]\n",
      "Needs Addressed\n",
      "Jordy Mercer and Josh Harrison have spent virtually their entire MLB careers as teammates. That connection will continue for at least part of the 2019 season, as the former Pirates each signed on to form Detroit’s new middle infield duo.  The Tigers turned to Mercer to fill the hole left behind by free agent shortstop Jose Iglesias, then later inked Harrison to take over as the everyday second baseman.  Such names as Troy Tulowitzki and former Tiger Ian Kinsler were also considered by the team to fill the middle infield gaps.\n",
      "Mercer and Harrison were inked to relatively inexpensive one-year deals, giving the Tigers flexibility should youngsters such as Dawel Lugo, Isaac Paredes, or Willi Castro force the issue for playing time as early as this summer.  By that same token, Mercer and Harrison could both be trade deadline chips if the Tigers find a contending team eager for infield help.\n",
      "In Harrison’s case, he has particular upside after struggling through an injury-plagued 2018.  Harrison also didn’t perform terribly well in 2015 or 2016, though he was an All-Star as recently as 2017.  The 31-year-old doesn’t have to do a ton to outplay his $2.5MM contract, however, and Harrison’s overall value could improve if the Tigers shield him from tough right-handed pitching every once in a while.  Harrison also could provide extra depth at third base or the corner outfield, though he played almost exclusively as a second baseman last season. That flexibility makes it particularly easy to imagine him as a mid-season trade candidate.\n",
      "While Harrison himself provides some versatility, his addition moves Niko Goodrum into a superutility role, allowing the Tigers to deploy him all around the diamond as the situation warrants.  Veterans Gordon Beckham and Pete Kozma are also at Spring Training on minor league deals, fighting with Ronny Rodriguez to win a utility infield job and potentially pushing Goodrum into seeing more corner outfield time, rather than infield duty.  Goodrum could also see substantial action at first base, since Miguel Cabrera is likely to receive the lion’s share of DH at-bats. (Backup catcher John Hicks could again factor at the first base position as well.)\n",
      "As they did last winter in signing Mike Fiers and Francisco Liriano, the Tigers added a pair of low-cost veteran arms to the rotation in Tyson Ross and Matt Moore.  Ross turned in a useful 2018 season with the Padres and Cardinals in 2018, posting a 4.15 ERA and 1.97 K/BB rate over 149 2/3 innings.  It’s probably too much to expect that Ross can recapture his mid-decade All-Star form (prior to two lost seasons due to injury), though he should give Detroit some solid innings.\n",
      "Moore hopes to follow in Ross’ footsteps with a bounce-back season of his own, as Moore has badly struggled in each of the last two seasons, to the point of being relegated to the Rangers’ bullpen last season.  It wasn’t long ago that Moore was one of the game’s most vaunted pitching prospects, so the Tigers are hoping the change of scenery can revive Moore’s career.\n",
      "Questions Remaining\n",
      "It seemed as if the Tigers were simply ready to move on from Iglesias, as a case could be made that re-signing Iglesias (10 fWAR over 656 career games) would’ve provided more value than adding Mercer (7.8 fWAR through 821 career appearances with Pittsburgh).  Mercer is only the slightly better hitter of the two, and Iglesias is the decidedly better fielder.  Considering that Iglesias ended up landing only a minor league deal from the Reds, spending $5.25MM on Mercer seems like something of an overpay.\n",
      "This being said, it could be that the Tigers simply felt Mercer had more future trade value, given that they’d spent much of 2018 unsuccessfully trying to find a trade partner for Iglesias.  Plus, when a club is still in the relatively early stages of a rebuilding plan, it’s hard to argue too strenuously about which veteran was or wasn’t signed to a one-year contract.  Mercer, Harrison, Ross, and Moore could all very well be playing on different teams by September, and the Tigers’ focus for 2019 will again be on seeing which of its young players can emerge.\n",
      "To this end, catcher James McCann was non-tendered after a rough campaign, wrapping up his four-year run as the team’s most frequently used backstop and giving the Tigers a chance to see what they have in Grayson Greiner.  (Both Greiner and Hicks may ultimately be keeping the catcher’s spot warm for prospect Jake Rogers in a year or two.)  The Tigers didn’t add any veteran outfield help, preferring to stick with incumbents JaCoby Jones and Mikie Mahtook in center field, and giving prospect Christin Stewart a full shot as the everyday left fielder.\n",
      "Perhaps the most notable element of the Tigers’ offseason was what they didn’t do — namely, trade any of their notable veterans.  It probably isn’t surprising that Michael Fulmer and Shane Greene weren’t moved in the wake of down years, as the Tigers don’t want to sell low. Swingman Blaine Hardy drew some interest from Oakland, though nothing came together. All three of those pitchers will very likely still be in a Detroit jersey on Opening Day.  None of this group can said to be premium trade chips, and the slowed free agent market also undoubtedly hampered Detroit’s trade negotiations.  For instance, if you’re the Athletics, why deal for Hardy when you could simply sign a similar type of pitcher in free agency without having to give anything up in return?\n",
      "This could also explain why the Tigers non-tendered Alex Wilson, who was projected to earn a modest $2.8MM salary in arbitration.  It wasn’t a high figure for an unspectacular but solid reliever like Wilson, though since the Tigers considered him expendable, they decided to simply part ways before the arb deadline since no trade interest could be located.\n",
      "The most prominent figure in Detroit trade rumors, of course, has been slugger Nicholas Castellanos.  The Braves, Mets, and Dodgers were all linked to Castellanos at various points this winter, though none were willing to meet the high asking price the Tigers placed on the outfielder.  Detroit was looking for a prospect (or prospects) that would top the compensatory first-round sandwich pick they could receive next winter if Castellanos receives and rejects a qualifying offer and then signs elsewhere. Castellanos himself expressed a desire to be moved before the start of camp, but nothing appealing ever came across the desk of GM Al Avila.\n",
      "As with the Tigers’ lower-level trade candidates, Castellanos’ market was undoubtedly harmed by the presence of so many other outfielders available in free agency (or in other trades).  Furthermore, while Castellanos has posted some fine numbers (.285/.336/.495 in 1790 PA, 67 homers) over the last three seasons, his bat isn’t elite enough that teams are willing to overlook his poor right field defense.  To this end, it’s interesting that all of Castellanos’ known suitors were NL teams, though it’s fair to assume that some American League clubs also made inquiries.\n",
      "If Castellanos keeps up his hitting production, he’ll still get some looks at the trade deadline, and his market will only grow if he becomes even borderline passable as a right fielder.  Still, it seems like the Tigers will need to lower expectations about what they’ll be able to receive in a Castellanos trade, given how bat-only players have become far less sought-after than they were even only a few years ago.  Topping a QO draft pick may not be feasible — if that’s even a reasonable guide to go by. Anthony Fenech of the Detroit Free Press recently observed that the Tigers may not end up issuing Castellanos a qualifying offer in the fall, as he could accept that one-year deal (which will be in excess of $17.9MM) rather than taking his chances on the open market with draft compensation attached.\n",
      "Castellanos has recently expressed interest in a contract extension to remain in Detroit, a possibility the team has pursued previously. With Cabrera already locked into DH duty through the 2023 season, though, there isn’t much room for the Tigers to carry another bat-only player over the long term.  Since Avila has intimated that the Tigers won’t look to really boost payroll until after the 2020 season, keeping Castellanos at a hefty salary doesn’t seem to fit Detroit’s timeline.\n",
      "2019 Season Outlook\n",
      "It looks to be another long year for Detroit fans.  Even in a weak AL Central, the Tigers aren’t likely to make much noise.  Perhaps the club can hope to top the ghastly 64-98 record it has posted in successive seasons, but it’d be hard to expect more than modest improvement given the present state of the roster\n",
      "How would you grade the Tigers’ offseason moves?  (Link for app users.)\n",
      "\n",
      "\n",
      "Photo courtesy of USA Today Sports Images\n",
      "2018-19 Offseason In Review Detroit Tigers MLBTR Originals\n",
      "By Steve Adams and Jeff Todd | March 4, 2019 at 5:01pm CDT \n",
      "The Cubs and right-hander Brad Brach quietly restructured their original contract following Brach’s medical reviews, Patrick Mooney of The Athletic reports (subscription required). Brach says “a little bit of a viral infection” caused the change.\n",
      "It appears the new pact promises Brach at least $3MM. Like the first iteration, it has quite a few moving parts.\n",
      "The two sides initially agreed to a $4.35MM deal that included a $3MM base salary for 2019. It also came with competing club/player options that put at least $1.35MM in Brach’s control for the 2020 campaign.\n",
      "Under the new agreement, Brach’s ’19 base salary will be just $1.65MM. He’ll have the ability to earn an additional $850K worth of bonuses based on days spent on the active roster, with $350K due for just one single day. After the season, the Cubs will decide between a $5MM option and a $100K buyout. If declined, Brach can exercise a player option at $1.35MM.\n",
      "At the end of the day, it seems the Cubs will get an even better buy on a solid relief arm. Brach, who’ll soon turn 33, has worked to a 3.08 ERA with 9.5 K/9 and 4.0 BB/9 over 456 career innings in the majors. The veteran hurler says he’s excited to join the Cubs, but joined a growing list of players to raise an eyebrow at a free-agent process in which he received similar offers on a similar timeline from multiple teams.\n",
      "Brad Brach Chicago Cubs Transactions\n",
      "By Tim Dierkes | March 4, 2019 at 3:45pm CDT \n",
      "Click here to read the transcript of today’s chat with Tim Dierkes.\n",
      "MLBTR Chats MLBTR Originals\n",
      "By Steve Adams | March 4, 2019 at 1:33pm CDT \n",
      "The Astros haven’t been engaged on Dallas Keuchel in recent weeks, ESPN’s Buster Olney writes in his latest look at the free-agent left-hander’s apparently stagnant market (subscription required). The Phillies, he adds, still have interest only in a “very” short-term deal, as was reported last week. Meanwhile, La Velle E. Neal III of the Minneapolis Star Tribune reports that unless Keuchel or free-agent closer Craig Kimbrel is suddenly willing to take a one-year deal, the Twins aren’t likely to sign either pitcher three weeks into Spring Training. As for the Braves, MLB.com’s Mark Bowman wrote late last week that spring ailments for Mike Foltynewicz and Kevin Gausman haven’t been deemed concerning enough for Atlanta to pursue Keuchel.\n",
      "It’s hardly an encouraging set of updates for either free agent, particularly Keuchel, whom Olney suggests is being harmed to an extent by the fact that he doesn’t fit today’s mold of hard throwers that permeate the game. Olney notes that Keuchel’s average fastball (89.3 mph) ranked 55th of 57 starters who qualified for the ERA title in 2018.\n",
      "While perhaps some teams would prefer harder-throwing options, that stat doesn’t seem especially concerning when presented with further context. Keuchel’s average fastball last season was actually improved over a pair of seasons in which he was slowed by back and neck injuries in 2016-17. In fact, in Keuchel’s Cy Young-winning 2015 season, he averaged just 89.6 mph on his heater, so it’d be puzzling to see significant level of concern over that fastball velocity. Furthermore, a look at the names around Keuchel near the bottom of the fastball velocity leaderboard includes quality arms such as Marco Gonzales, Zack Greinke and Kyle Hendricks. Patrick Corbin, meanwhile, ranked only 43rd among those 57 qualified starters at 90.8 mph, and he secured a six-year contract that promises him $140MM. That deal came at a younger age and on the heels of a better season, clearly, but the contract still runs counter to the idea that teams will only pay for premium velocity.\n",
      "None of that is to say that Keuchel isn’t without red flags, of course. The lefty’s strikeout percentage dipped from 21.4 percent in 2017 to 17.5 percent in 2018 (7.7 K/9 vs. 6.7), and his swinging-strike rate fell from 10.9 percent to 8.3 percent. His ground-ball rate of 53.7 percent, while well north of the league average, also represented a substantial step back from 2017’s 66.8 percent mark and from his overall career mark of 58.8 percent. All of that surely sets off some alarms for interested teams, but Keuchel was nevertheless a quality starter in 2018, as has been the case for several years. Both Fangraphs and Baseball-Reference suggest he’s been worth 18 wins above replacement over the past five seasons — including a combined six or more WAR over his past two campaigns.\n",
      "It’s not a stretch to suggest that virtually any team in baseball would be improved by swapping out Keuchel for its current weakest starter, but as is always the case in free agency, the financial element plays a significant role. It seems quite likely that some clubs that had interest in Keuchel and Kimbrel early this winter balked at the duo’s reported nine-figure asking prices and went on to spend their money elsewhere. Now, even if those asking prices have come down, some previously interested teams may simply not have ownership permission to spend significant dollars on another free agent. Both pitchers also rejected qualifying offers, meaning a team signing either former All-Star would be subject to the forfeiture of at least one draft pick (and potentially some international bonus pool space).\n",
      "It’ll be worth keeping an eye on injuries to prominent pitchers throughout the league in the coming days to see if a new window opens. Clayton Kershaw has been battling a shoulder issue, for instance. The Braves, as previously mentioned, have multiple starters who have been dealing with injuries thus far in camp. The Cardinals may be without Carlos Martinez to open the season. Further injuries will surely arise elsewhere, although the longer Keuchel and Kimbrel wait, the more questionable it is whether either will be ready to pitch in a big league game come Opening Day.\n",
      "Atlanta Braves Craig Kimbrel Dallas Keuchel Houston Astros Minnesota Twins Philadelphia Phillies\n",
      "By Steve Adams | March 4, 2019 at 11:03am CDT \n",
      "As things currently stand, slugging outfielder Tyler O’Neill is expected to make the Cardinals’ Opening Day roster, Derrick Goold of the St. Louis Post-Dispatch writes. The Cards “have reserved a spot for him as a spare outfielder, for now,” Goold writes, noting that poor health in the shoulder of Marcell Ozuna and/or continued struggles for Dexter Fowler could eventually thrust him into a larger role. And with Ozuna set to hit free agency at season’s end, a more natural path to everyday at-bats for the 23-year-old O’Neill isn’t hard to see. As Goold highlights in chatting with hitting coach Jeff Albert, O’Neill has worked diligently to improve his contact skills as he seeks a more well-rounded offensive profile. O’Neill slugged 35 homers between Triple-A and the Majors last season but punched out in a quarter of his plate appearances in Triple-A and more than 40 percent of his 142 PAs in the Majors.\n",
      "More from the division…\n",
      "Brandon Woodruff Chicago Cubs Corbin Burnes Freddy Peralta Kris Bryant Milwaukee Brewers St. Louis Cardinals Tyler O'Neill Yu Darvish\n",
      "By Mark Polishuk | March 4, 2019 at 10:00am CDT \n",
      "March 4: The Giants announced Monday that Baer is taking a leave of absence. The team issued the following statement on the matter:\n",
      "The Board of Directors of San Francisco Baseball Associates is closely monitoring the matter involving Giants President and CEO Larry Baer. Pursuant to League policy, Major League Baseball is taking the lead in gathering all facts surrounding the situation. The organization is cooperating fully with the process. Mr. Baer has acknowledged that his behavior was unacceptable, apologized to the organization and is committed to taking steps to make sure that this never happens again. He has also requested, and the Board has accepted, his request to take personal time away from the Giants beginning today. The Board has asked the Giants executive team to manage the day to day operations of the Club during this period, reporting directly to the Board. As leaders in the community, we at the Giants hold ourselves to the highest standards and those standards will guide how we consider this matter moving forward. We have no further comment at this time.\n",
      "March 1, 9:11pm: Pam Baer has also released a secondary statement through her attorney, detailing the incident: “I would like to clarify the events of today. My husband and I had an argument in public about which we are quite embarrassed. I took his cellphone. He wanted it back and I did not want to give it back. I started to get up and the chair I was sitting in began to tip. Due to an injury I sustained in my foot three days ago, I lost my balance. I did not sustain any injury based on what happened today. Larry and I always have been and still are happily married.”\n",
      "8:03pm: Larry Baer has released another statement, as per a Giants press release: “I am truly sorry for the pain that I have brought to my wife, children and to the organization. It is not reflective of the kind of a person that I aspire to be, but it happened and I will do whatever it takes to make sure that I never behave in such an inappropriate manner again.”\n",
      "4:57pm: Giants chief executive officer Larry Baer was involved in an altercation with Pam Baer, his wife, earlier today at a downtown San Francisco public plaza, Matthias Gafni and Evan Sernoffsky of the San Francisco Chronicle report.  Video of the incident was captured by a bystander, and was made public by TMZ Sports (links to the video are included in the Chronicle’s piece).\n",
      "Both of the Baers commented on the situation to the Chronicle.  Pam Baer described the incident as, “We were having a family fight about someone in my family and that’s it.”  Larry Baer went into slightly more detail, saying “My wife and I had an unfortunate public argument related to a family member and she had an injured foot and she fell off her chair in the course of the argument. The matter is resolved. It was a squabble over a cell phone. Obviously, it’s embarrassing.”\n",
      "Through the Giants, the couple also released a joint statement to the media: “Regrettably today we had a heated argument in public over a family matter. We are deeply embarrassed by the situation and have resolved the issue.”\n",
      "The league weighed in on the matter in another statement, saying “Major League Baseball is aware of the incident and, just like any other situation like this, will immediately begin to gather the facts. We will have no further comment until this process is completed.”  Larry Baer (like all MLB owners, players, and personnel) is subject to the joint domestic violence, sexual assault, and child abuse policy introduced by Major League Baseball and the players’ union in 2015.\n",
      "Larry Baer San Francisco Giants\n",
      "By Steve Adams | March 4, 2019 at 9:55am CDT \n",
      "The Mets announced Monday that they’ve hired former big league left-hander Al Leiter as an advisor in their baseball operations department. Leiter will focus on scouting and player development, per the Mets, with a particular emphasis placed on mental preparation for pitchers at every level of the organization.\n",
      "“Al is one of the most memorable pitchers in club history and we are thrilled to welcome him back into the organization,” said general manager Brodie Van Wagenen in a press release announcing the move. “Al’s passion for the game is infectious. His unique ability to communicate his knowledge to players, coaches and the front office will immediately make us better.”\n",
      "The Mets are also expanding the role of club ambassador John Franco. Like Leiter, he’ll assist the club with scouting and player development, with an emphasis being placed on helping to develop the organization’s pitching talent.\n",
      "Both Leiter and Franco enjoyed lengthy, productive stints as pitchers for the Mets in the 1990s and 2000s. Leiter pitched for the club from 1998-2004, tallying a combined 3.42 ERA over the life of 1360 innings. Franco suited up for the Mets in parts of 14 MLB seasons, spanning from 1990-2004. In 702 2/3 innings as a Met, he saved 276 games and logged a 3.10 ERA. Both pitchers were fixtures on the Mets’ pitching staff during the organization’s consecutive postseason appearances in 1999 and 2000 — the latter of which resulted in a World Series showdown with the Yankees.\n",
      "Al Leiter John Franco New York Mets\n",
      "By Steve Adams | March 4, 2019 at 9:16am CDT \n",
      "Here are Monday’s minor moves from around the game…\n",
      "Chris Smith Detroit Tigers Transactions\n",
      "MLB Trade Rumors is not affiliated with Major League Baseball, MLB or MLB.com\n",
      "\n",
      "Username or Email Address\n",
      "\n",
      "\n",
      "\n",
      "Password\n",
      "\n",
      "\n",
      " Remember Me\n",
      "\n",
      "\n",
      "\n",
      "\n"
     ]
    }
   ],
   "source": [
    "# Print all paragraph texts\n",
    "paragraphs = soup.find_all('p')\n",
    "for paragraph in paragraphs:\n",
    "    print(paragraph.text)"
   ]
  },
  {
   "cell_type": "code",
   "execution_count": 24,
   "metadata": {},
   "outputs": [],
   "source": [
    "content = soup.find_all('div', class_=\"content-sidebar-wrap\")[0]"
   ]
  },
  {
   "cell_type": "code",
   "execution_count": 31,
   "metadata": {},
   "outputs": [
    {
     "data": {
      "text/plain": [
       "'https://www.mlbtraderumors.com/2019/03/latest-on-brandon-morrows-rehab-timeline.html'"
      ]
     },
     "execution_count": 31,
     "metadata": {},
     "output_type": "execute_result"
    }
   ],
   "source": [
    "content.a['href']"
   ]
  },
  {
   "cell_type": "code",
   "execution_count": null,
   "metadata": {},
   "outputs": [],
   "source": []
  }
 ],
 "metadata": {
  "kernelspec": {
   "display_name": "Python 3",
   "language": "python",
   "name": "python3"
  },
  "language_info": {
   "codemirror_mode": {
    "name": "ipython",
    "version": 3
   },
   "file_extension": ".py",
   "mimetype": "text/x-python",
   "name": "python",
   "nbconvert_exporter": "python",
   "pygments_lexer": "ipython3",
   "version": "3.6.6"
  }
 },
 "nbformat": 4,
 "nbformat_minor": 2
}
