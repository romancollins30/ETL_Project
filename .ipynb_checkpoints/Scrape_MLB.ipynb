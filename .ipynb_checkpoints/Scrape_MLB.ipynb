{
 "cells": [
  {
   "cell_type": "code",
   "execution_count": 2,
   "metadata": {},
   "outputs": [],
   "source": [
    "# Import Dependecies \n",
    "from splinter import Browser\n",
    "import pandas as pd \n",
    "from bs4 import BeautifulSoup\n",
    "import requests\n",
    "import pymongo\n",
    "\n",
    "# Initialize browser\n",
    "def init_browser(): \n",
    "    # Replace the path with your actual path to the chromedriver\n",
    "\n",
    "    #Windows Users\n",
    "    # executable_path = {'executable_path': 'chromedriver.exe'}\n",
    "    # return Browser('chrome', **executable_path, headless=False)\n",
    "    exec_path = {'executable_path': 'chromedriver.exe'}\n",
    "    return Browser('chrome', headless=True, **exec_path)\n",
    "\n",
    "data = {}\n",
    "\n",
    "def scrape():\n",
    "        browser = init_browser()\n",
    "        url = 'https://www.mlb.com/'\n",
    "        browser.visit(url)\n",
    "        # HTML Object\n",
    "        html = browser.html\n",
    "        response = requests.get(url)\n",
    "        soup = BeautifulSoup(html, 'html.parser')\n",
    "        headline_title = soup.find('div', class_=\"mediawall__kicker-text\").text\n",
    "\n",
    "        results = soup.find('div', class_='mediawall__blurb')\n",
    "        headline_body = results.p.text\n",
    "\n",
    "        data['headline_title'] = headline_title\n",
    "        data['headline_body'] = headline_body \n",
    "\n",
    "                \n",
    "        # Visit Spring Training Schedule \n",
    "        standings_url = 'https://www.cbssports.com/mlb/standings/'\n",
    "\n",
    "        # Use Panda's `read_html` to parse the url\n",
    "        cactus_scores = pd.read_html(standings_url)\n",
    "\n",
    "        # Find the cactus league DataFrame in the list of DataFrames\n",
    "        standings_df = cactus_scores[1]\n",
    "\n",
    "        # Save html code\n",
    "        Cactus_League_Scores = standings_df.to_html()\n",
    "\n",
    "        # Dictionary entry from MLB Scores\n",
    "        data['mlb_scores'] = Cactus_League_Scores\n",
    "\n",
    "        url = 'https://cactusleague.com/about.php'\n",
    "        response = requests.get(url)\n",
    "        soup = BeautifulSoup(response.text,'html')\n",
    "        cactus_title = soup.find('h2', class_=\"custom-underline\").text\n",
    "\n",
    "        cactus_body = soup.find('p').text\n",
    "        # Dictionary entry from About Cactus\n",
    "        data['cactus_title'] = cactus_title\n",
    "        data['cactus_body'] = cactus_body\n",
    "                \n",
    "\n",
    "        #browser.is_element_present_by_css(\"img.jpg\", wait_time=1)\n",
    "\n",
    "        # Visit through splinter module\n",
    "        image_url_featured = 'http://cactus-league.com/news/'\n",
    "        browser.visit(image_url_featured)# Visit Mars Space Images through splinter module\n",
    "\n",
    "        # HTML Object \n",
    "        html_image = browser.html\n",
    "\n",
    "        # Parse HTML with Beautiful Soup\n",
    "        soup = BeautifulSoup(html_image, 'html.parser')\n",
    "\n",
    "        # Retrieve background-image url from style tag \n",
    "        featured_image_url  = soup.find('img')['src']\n",
    "\n",
    "        # Display full link to featured image\n",
    "        featured_image_url \n",
    "\n",
    "        # Dictionary entry from FEATURED IMAGE\n",
    "        data['featured_image_url'] = featured_image_url \n",
    "\n",
    "        return data"
   ]
  },
  {
   "cell_type": "code",
   "execution_count": 3,
   "metadata": {},
   "outputs": [
    {
     "data": {
      "text/plain": [
       "{'headline_title': '\\n                                                10 best catchers of the decade\\n                                            ',\n",
       " 'headline_body': 'The skills that make for a good catcher are hard to quantify, making ranking them no easy task.',\n",
       " 'mlb_scores': '<table border=\"1\" class=\"dataframe\">\\n  <thead>\\n    <tr style=\"text-align: right;\">\\n      <th></th>\\n      <th>Team</th>\\n      <th>W  Wins</th>\\n      <th>L  Losses</th>\\n      <th>PCT  Win Percentage</th>\\n    </tr>\\n  </thead>\\n  <tbody>\\n    <tr>\\n      <th>0</th>\\n      <td>L.A. Angels</td>\\n      <td>8</td>\\n      <td>3</td>\\n      <td>0.727</td>\\n    </tr>\\n    <tr>\\n      <th>1</th>\\n      <td>San Diego</td>\\n      <td>7</td>\\n      <td>3</td>\\n      <td>0.700</td>\\n    </tr>\\n    <tr>\\n      <th>2</th>\\n      <td>Seattle</td>\\n      <td>6</td>\\n      <td>3</td>\\n      <td>0.667</td>\\n    </tr>\\n    <tr>\\n      <th>3</th>\\n      <td>Kansas City</td>\\n      <td>7</td>\\n      <td>4</td>\\n      <td>0.636</td>\\n    </tr>\\n    <tr>\\n      <th>4</th>\\n      <td>L.A. Dodgers</td>\\n      <td>6</td>\\n      <td>4</td>\\n      <td>0.600</td>\\n    </tr>\\n    <tr>\\n      <th>5</th>\\n      <td>Chi. Cubs</td>\\n      <td>7</td>\\n      <td>5</td>\\n      <td>0.583</td>\\n    </tr>\\n    <tr>\\n      <th>6</th>\\n      <td>Arizona</td>\\n      <td>5</td>\\n      <td>4</td>\\n      <td>0.556</td>\\n    </tr>\\n    <tr>\\n      <th>7</th>\\n      <td>Cleveland</td>\\n      <td>5</td>\\n      <td>6</td>\\n      <td>0.455</td>\\n    </tr>\\n    <tr>\\n      <th>8</th>\\n      <td>Oakland</td>\\n      <td>5</td>\\n      <td>6</td>\\n      <td>0.455</td>\\n    </tr>\\n    <tr>\\n      <th>9</th>\\n      <td>San Francisco</td>\\n      <td>4</td>\\n      <td>5</td>\\n      <td>0.444</td>\\n    </tr>\\n    <tr>\\n      <th>10</th>\\n      <td>Milwaukee</td>\\n      <td>4</td>\\n      <td>7</td>\\n      <td>0.364</td>\\n    </tr>\\n    <tr>\\n      <th>11</th>\\n      <td>Cincinnati</td>\\n      <td>3</td>\\n      <td>6</td>\\n      <td>0.333</td>\\n    </tr>\\n    <tr>\\n      <th>12</th>\\n      <td>Colorado</td>\\n      <td>3</td>\\n      <td>6</td>\\n      <td>0.333</td>\\n    </tr>\\n    <tr>\\n      <th>13</th>\\n      <td>Texas</td>\\n      <td>3</td>\\n      <td>6</td>\\n      <td>0.333</td>\\n    </tr>\\n    <tr>\\n      <th>14</th>\\n      <td>Chi. White Sox</td>\\n      <td>3</td>\\n      <td>8</td>\\n      <td>0.273</td>\\n    </tr>\\n  </tbody>\\n</table>',\n",
       " 'cactus_title': 'Arizona Cactus League Association',\n",
       " 'cactus_body': 'Since 1947, the Arizona Cactus League Association has consisted of members with direct interest in the good of the league. The Association has provided a forum to share operational efficiencies, to establish and nurture business relationships with respective Major League Baseball franchises and to facilitate and participate in activities to promote and fundraise for the Cactus League. The Cactus League industry continues to grow and contributes an estimated $644 million annually in economic impact in the state of Arizona.',\n",
       " 'featured_image_url': 'http://cactus-league.com/wp-content/uploads/2016/11/Untitled-1.png'}"
      ]
     },
     "execution_count": 3,
     "metadata": {},
     "output_type": "execute_result"
    }
   ],
   "source": [
    "scrape()"
   ]
  },
  {
   "cell_type": "code",
   "execution_count": 4,
   "metadata": {},
   "outputs": [
    {
     "ename": "NameError",
     "evalue": "name 'mlb_scores' is not defined",
     "output_type": "error",
     "traceback": [
      "\u001b[1;31m---------------------------------------------------------------------------\u001b[0m",
      "\u001b[1;31mNameError\u001b[0m                                 Traceback (most recent call last)",
      "\u001b[1;32m<ipython-input-4-3d1a6fa2e1b8>\u001b[0m in \u001b[0;36m<module>\u001b[1;34m()\u001b[0m\n\u001b[1;32m----> 1\u001b[1;33m \u001b[0mmlb_scores\u001b[0m\u001b[1;33m\u001b[0m\u001b[0m\n\u001b[0m",
      "\u001b[1;31mNameError\u001b[0m: name 'mlb_scores' is not defined"
     ]
    }
   ],
   "source": []
  },
  {
   "cell_type": "code",
   "execution_count": null,
   "metadata": {},
   "outputs": [],
   "source": []
  }
 ],
 "metadata": {
  "kernelspec": {
   "display_name": "Python 3",
   "language": "python",
   "name": "python3"
  },
  "language_info": {
   "codemirror_mode": {
    "name": "ipython",
    "version": 3
   },
   "file_extension": ".py",
   "mimetype": "text/x-python",
   "name": "python",
   "nbconvert_exporter": "python",
   "pygments_lexer": "ipython3",
   "version": "3.6.6"
  }
 },
 "nbformat": 4,
 "nbformat_minor": 2
}
